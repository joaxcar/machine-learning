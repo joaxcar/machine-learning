{
 "cells": [
  {
   "cell_type": "code",
   "execution_count": null,
   "id": "headed-train",
   "metadata": {},
   "outputs": [],
   "source": [
    "import numpy as np"
   ]
  },
  {
   "cell_type": "code",
   "execution_count": null,
   "id": "understanding-pressure",
   "metadata": {},
   "outputs": [],
   "source": [
    "v1=np.array([1,2,3])"
   ]
  },
  {
   "cell_type": "code",
   "execution_count": null,
   "id": "hourly-consumer",
   "metadata": {},
   "outputs": [],
   "source": [
    "v1 @ v1.T"
   ]
  },
  {
   "cell_type": "code",
   "execution_count": null,
   "id": "intense-tokyo",
   "metadata": {},
   "outputs": [],
   "source": [
    "v2 = np.array([[1,2,3], [4,5,4]])"
   ]
  },
  {
   "cell_type": "code",
   "execution_count": null,
   "id": "homeless-theory",
   "metadata": {},
   "outputs": [],
   "source": [
    "v2"
   ]
  },
  {
   "cell_type": "code",
   "execution_count": null,
   "id": "expected-lying",
   "metadata": {},
   "outputs": [],
   "source": [
    "v2.T"
   ]
  },
  {
   "cell_type": "code",
   "execution_count": null,
   "id": "speaking-collar",
   "metadata": {},
   "outputs": [],
   "source": [
    "v2.T @ v2"
   ]
  },
  {
   "cell_type": "code",
   "execution_count": null,
   "id": "swiss-haiti",
   "metadata": {},
   "outputs": [],
   "source": [
    "v3 = np.hstack((np.array([v1,v1]),v2))"
   ]
  },
  {
   "cell_type": "code",
   "execution_count": null,
   "id": "valid-scholarship",
   "metadata": {},
   "outputs": [],
   "source": [
    "v3"
   ]
  },
  {
   "cell_type": "code",
   "execution_count": null,
   "id": "broken-broadcast",
   "metadata": {},
   "outputs": [],
   "source": [
    "data = np.array([[1,2],[2,3],[4,2],[2,5],[4,6],[6,6],[7,9]])\n",
    "indi = np.array([-1,-1,-1,1,1,-1,1])"
   ]
  },
  {
   "cell_type": "code",
   "execution_count": null,
   "id": "rotary-briefs",
   "metadata": {},
   "outputs": [],
   "source": [
    "import matplotlib.pyplot as plt"
   ]
  },
  {
   "cell_type": "code",
   "execution_count": null,
   "id": "purple-browser",
   "metadata": {},
   "outputs": [],
   "source": [
    "plt.scatter(data.T[0], data.T[1])"
   ]
  },
  {
   "cell_type": "code",
   "execution_count": null,
   "id": "chief-climb",
   "metadata": {},
   "outputs": [],
   "source": [
    "def mean(x):\n",
    "    return x.sum(0)/x.shape[0];\n",
    "def var(x):\n",
    "    return ((x - data.mean(0))*(x - data.mean(0))).sum(0) / x.shape[0];\n",
    "def E2(x, y):\n",
    "    mu = x.sum()\n",
    "    return ((x - x.mean())*(y - y.mean())).sum(0) / x.shape[0];\n",
    "def covar(matrix):\n",
    "    transpose = matrix.T\n",
    "    covars = np.array([E2(c1, c2) for c1 in transpose for c2 in transpose])\n",
    "    covarMatrix = covars.reshape(matrix.shape[1], matrix.shape[1])\n",
    "    return covarMatrix"
   ]
  },
  {
   "cell_type": "code",
   "execution_count": null,
   "id": "satisfied-paraguay",
   "metadata": {},
   "outputs": [],
   "source": [
    "import scipy as sp"
   ]
  },
  {
   "cell_type": "code",
   "execution_count": null,
   "id": "bizarre-digit",
   "metadata": {},
   "outputs": [],
   "source": [
    "\n"
   ]
  },
  {
   "cell_type": "code",
   "execution_count": null,
   "id": "plastic-bones",
   "metadata": {},
   "outputs": [],
   "source": [
    "test = np.array([[1,2,3],[1,3,4],[5,3,5]])"
   ]
  },
  {
   "cell_type": "code",
   "execution_count": null,
   "id": "educational-invasion",
   "metadata": {},
   "outputs": [],
   "source": [
    "np.cov(test.T, ddof=0)"
   ]
  },
  {
   "cell_type": "code",
   "execution_count": null,
   "id": "applied-outreach",
   "metadata": {},
   "outputs": [],
   "source": [
    "covar(test)"
   ]
  },
  {
   "cell_type": "code",
   "execution_count": null,
   "id": "southern-myanmar",
   "metadata": {},
   "outputs": [],
   "source": [
    "data.var(0)"
   ]
  },
  {
   "cell_type": "code",
   "execution_count": null,
   "id": "theoretical-blade",
   "metadata": {},
   "outputs": [],
   "source": [
    "np.cov(data.T, ddof=0)"
   ]
  },
  {
   "cell_type": "code",
   "execution_count": null,
   "id": "certified-analysis",
   "metadata": {},
   "outputs": [],
   "source": [
    "mean(data)"
   ]
  },
  {
   "cell_type": "code",
   "execution_count": null,
   "id": "purple-heater",
   "metadata": {},
   "outputs": [],
   "source": [
    "mu = data.mean(0)"
   ]
  },
  {
   "cell_type": "code",
   "execution_count": null,
   "id": "automated-juvenile",
   "metadata": {},
   "outputs": [],
   "source": [
    "var(data)"
   ]
  },
  {
   "cell_type": "code",
   "execution_count": null,
   "id": "periodic-length",
   "metadata": {},
   "outputs": [],
   "source": [
    "data.var(0)"
   ]
  },
  {
   "cell_type": "code",
   "execution_count": null,
   "id": "hollow-holder",
   "metadata": {},
   "outputs": [],
   "source": [
    "plt.figure(figsize=(5,5))\n",
    "plt.scatter(data.T[0], data.T[1])\n",
    "plt.scatter(* data.mean(0))"
   ]
  },
  {
   "cell_type": "code",
   "execution_count": null,
   "id": "brilliant-living",
   "metadata": {},
   "outputs": [],
   "source": [
    "def kern(x,y):\n",
    "    return x.T @ y"
   ]
  },
  {
   "cell_type": "code",
   "execution_count": null,
   "id": "paperback-frank",
   "metadata": {},
   "outputs": [],
   "source": [
    "def vec(d, t):\n",
    "    temp = (data.T * indi).T\n",
    "    kern = temp @ temp.T\n",
    "    def func(a):\n",
    "        acc = 0\n",
    "        for i in range(len(d)):\n",
    "            for j in range(len(d)):\n",
    "                acc += a[i]*a[j]*kern[i, j]\n",
    "        acc -= a.sum()\n",
    "        return acc\n",
    "    return func"
   ]
  },
  {
   "cell_type": "code",
   "execution_count": null,
   "id": "applied-invitation",
   "metadata": {},
   "outputs": [],
   "source": [
    "s = vec(data, indi)"
   ]
  },
  {
   "cell_type": "code",
   "execution_count": null,
   "id": "previous-success",
   "metadata": {},
   "outputs": [],
   "source": [
    "def zerofun(x):\n",
    "    return x @ indi\n",
    "import numpy , random , math\n",
    "from scipy.optimize import minimize"
   ]
  },
  {
   "cell_type": "code",
   "execution_count": null,
   "id": "light-conviction",
   "metadata": {},
   "outputs": [],
   "source": [
    "res = minimize(s, np.zeros(7), bounds=[(0, None) for b in range(7)], constraints={'type':'eq', 'fun':zerofun})"
   ]
  },
  {
   "cell_type": "code",
   "execution_count": null,
   "id": "present-youth",
   "metadata": {},
   "outputs": [],
   "source": [
    "res.x"
   ]
  },
  {
   "cell_type": "code",
   "execution_count": null,
   "id": "medieval-disease",
   "metadata": {},
   "outputs": [],
   "source": []
  }
 ],
 "metadata": {
  "kernelspec": {
   "display_name": "Python 3",
   "language": "python",
   "name": "python3"
  },
  "language_info": {
   "codemirror_mode": {
    "name": "ipython",
    "version": 3
   },
   "file_extension": ".py",
   "mimetype": "text/x-python",
   "name": "python",
   "nbconvert_exporter": "python",
   "pygments_lexer": "ipython3",
   "version": "3.8.6"
  }
 },
 "nbformat": 4,
 "nbformat_minor": 5
}
